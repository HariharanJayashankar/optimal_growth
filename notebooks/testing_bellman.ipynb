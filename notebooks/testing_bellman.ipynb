{
 "cells": [
  {
   "cell_type": "code",
   "execution_count": 1,
   "metadata": {},
   "outputs": [],
   "source": [
    "import numpy as np\n",
    "from scipy.optimize import fminbound\n",
    "import sys\n",
    "sys.path.insert(0, 'C:/Users/Administrator/Documents/personal/optimal_growth/scripts/')\n",
    "from bellman import bellman_updater"
   ]
  },
  {
   "cell_type": "markdown",
   "metadata": {},
   "source": [
    "# Structuring a bellman to which we know an analytical solution\n",
    "## The Bellman\n",
    "\\begin{align*}\n",
    "V(k) = max {\\log(c) + \\beta V(k')}\n",
    "\\end{align*}\n",
    "\n",
    "Subject to\n",
    "\\begin{align*}\n",
    "c = Ak^{\\alpha} - k'\n",
    "\\end{align*}\n",
    "\n",
    "Substituting the budget constraint:\n",
    "\\begin{align*}\n",
    "V(k) = max{\\log(Ak^{\\alpha} - k') + \\beta V(k')}\n",
    "\\end{align*}"
   ]
  }
 ],
 "metadata": {
  "kernelspec": {
   "display_name": "Python 3",
   "language": "python",
   "name": "python3"
  },
  "language_info": {
   "codemirror_mode": {
    "name": "ipython",
    "version": 3
   },
   "file_extension": ".py",
   "mimetype": "text/x-python",
   "name": "python",
   "nbconvert_exporter": "python",
   "pygments_lexer": "ipython3",
   "version": "3.7.0"
  }
 },
 "nbformat": 4,
 "nbformat_minor": 2
}
